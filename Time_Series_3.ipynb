{
  "nbformat": 4,
  "nbformat_minor": 0,
  "metadata": {
    "colab": {
      "name": "Time Series 3",
      "provenance": [],
      "collapsed_sections": [],
      "authorship_tag": "ABX9TyPHiaur+QEF1jrIrWO5vbfh",
      "include_colab_link": true
    },
    "kernelspec": {
      "display_name": "Python 3",
      "name": "python3"
    },
    "language_info": {
      "name": "python"
    }
  },
  "cells": [
    {
      "cell_type": "markdown",
      "metadata": {
        "id": "view-in-github",
        "colab_type": "text"
      },
      "source": [
        "<a href=\"https://colab.research.google.com/github/gideononyewuenyi/Time-Series-Forecasting/blob/main/Time_Series_3.ipynb\" target=\"_parent\"><img src=\"https://colab.research.google.com/assets/colab-badge.svg\" alt=\"Open In Colab\"/></a>"
      ]
    },
    {
      "cell_type": "markdown",
      "metadata": {
        "id": "PBymxw-x3Tj5"
      },
      "source": [
        "## Problem statement"
      ]
    },
    {
      "cell_type": "markdown",
      "metadata": {
        "id": "tRP0QS4PDEp1"
      },
      "source": [
        "Air pollution has been a major problem faced in Nigeria especially in the southern part of the country that’s plagued with soot resulting from illegal refining of crude oil, flaring of gases, and uncontrolled emission from automobiles. (https://qz.com/africa/912374/nigerian-city-of-port-harcourt-is-dealing-with-with-a-mystery-soot-air-pollution-panic/)\n",
        "(https://twitter.com/FMEnvng/status/831561428414763009)\n"
      ]
    },
    {
      "cell_type": "markdown",
      "metadata": {
        "id": "3aZ3mhB03W6-"
      },
      "source": [
        "## What is our goal?"
      ]
    },
    {
      "cell_type": "markdown",
      "metadata": {
        "id": "yrHDXkD2DHEh"
      },
      "source": [
        "Our goal is to be able to predict the amount of air pollution (PM 2.5) over a period of time \n",
        "* (To determine air quality in an area, pollutant concentrations are physically measured and reported. The AQI is calculated based on the average concentration of a particular pollutant measured over a standard time interval (24 hours for most pollutants, 8 hours for carbon monoxide and ozone), you can learn more here:\n",
        "https://fit.thequint.com/health-news/explaining-air-quality-index#read-more  \n",
        "https://cpcb.nic.in/displaypdf.php?id=bmF0aW9uYWwtYWlyLXF1YWxpdHktaW5kZXgvQWJvdXRfQVFJLnBkZg== )\n"
      ]
    },
    {
      "cell_type": "markdown",
      "metadata": {
        "id": "oWUkJA5PMk2T"
      },
      "source": [
        "## Import some relevant packages"
      ]
    },
    {
      "cell_type": "code",
      "metadata": {
        "id": "rFBRgwp9n4vE"
      },
      "source": [
        "import numpy as np\n",
        "import pandas as pd\n",
        "import matplotlib.pyplot as plt\n",
        "import datetime\n",
        "from datetime import datetime\n",
        "from IPython.display import display, HTML, display_html\n",
        "import seaborn as sns\n",
        "sns.set_theme(style=\"whitegrid\")\n",
        "sns.set_palette('bright')\n",
        "%matplotlib inline\n",
        "\n",
        "import warnings\n",
        "warnings.filterwarnings(\"ignore\")\n",
        "\n",
        "# set formatting\n",
        "pd.set_option('display.max_columns', 100)\n",
        "pd.set_option('display.max_rows', 100)"
      ],
      "execution_count": 328,
      "outputs": []
    },
    {
      "cell_type": "markdown",
      "metadata": {
        "id": "edpDK8G7TBvS"
      },
      "source": [
        "## Read in my data"
      ]
    },
    {
      "cell_type": "markdown",
      "metadata": {
        "id": "YQyiXbtdwae1"
      },
      "source": [
        "In this notebook, we will be using a dataset of air quality obtained from the Purpleair sensor in Lagos that took readings every 30min from 12/2019 until it stopped reporting back in 6/2021"
      ]
    },
    {
      "cell_type": "code",
      "metadata": {
        "id": "KP9zX-BUoTYa"
      },
      "source": [
        "url = \"https://raw.githubusercontent.com/gideononyewuenyi/Exploratory-analysis/main/Lekki%20Phase%201%20(outside)%20(6.451397%203.471201)%20Primary%2030_minute_average%2012_17_2019%206_6_2021.csv\"\n",
        "df = pd.read_csv (url)"
      ],
      "execution_count": 329,
      "outputs": []
    },
    {
      "cell_type": "markdown",
      "metadata": {
        "id": "0iFBq8iNg30L"
      },
      "source": [
        "## Take a look at my data\n",
        "- How many rows and columns are in the dataset?\n",
        "- What data types are the columns?\n",
        "- Is the data complete? Are there nulls? \n"
      ]
    },
    {
      "cell_type": "code",
      "metadata": {
        "colab": {
          "base_uri": "https://localhost:8080/",
          "height": 798
        },
        "id": "2Jn55hjsBMCj",
        "outputId": "2c7d4336-6079-408d-a972-5ff86138d47a"
      },
      "source": [
        "# look at data\n",
        "display(df.head())\n",
        "\n",
        "# look a shape of data\n",
        "display(df.shape)\n",
        "\n",
        "# look at data types. Ideally look at all rows. Only look at first five here for minimal output.\n",
        "display(df.iloc[:5,:5].dtypes)\n",
        "\n",
        "# see if any columns have nulls. Ideally look at all rows. Only look at first five here for minimal output.\n",
        "display(df.iloc[:5,:5].isnull().any())\n",
        "\n",
        "# display descriptive statistics\n",
        "display(df.describe(percentiles=[0.25,0.5,0.75,0.85,0.95,0.99]))"
      ],
      "execution_count": 330,
      "outputs": [
        {
          "output_type": "display_data",
          "data": {
            "text/html": [
              "<div>\n",
              "<style scoped>\n",
              "    .dataframe tbody tr th:only-of-type {\n",
              "        vertical-align: middle;\n",
              "    }\n",
              "\n",
              "    .dataframe tbody tr th {\n",
              "        vertical-align: top;\n",
              "    }\n",
              "\n",
              "    .dataframe thead th {\n",
              "        text-align: right;\n",
              "    }\n",
              "</style>\n",
              "<table border=\"1\" class=\"dataframe\">\n",
              "  <thead>\n",
              "    <tr style=\"text-align: right;\">\n",
              "      <th></th>\n",
              "      <th>created_at</th>\n",
              "      <th>PM1.0_CF1_ug/m3</th>\n",
              "      <th>PM2.5_CF1_ug/m3</th>\n",
              "      <th>PM10.0_CF1_ug/m3</th>\n",
              "      <th>UptimeMinutes</th>\n",
              "      <th>RSSI_dbm</th>\n",
              "      <th>Temperature_F</th>\n",
              "      <th>Humidity_%</th>\n",
              "      <th>PM2.5_ATM_ug/m3</th>\n",
              "      <th>Unnamed: 9</th>\n",
              "    </tr>\n",
              "  </thead>\n",
              "  <tbody>\n",
              "    <tr>\n",
              "      <th>0</th>\n",
              "      <td>2019-12-17 20:00:00 UTC</td>\n",
              "      <td>1.99</td>\n",
              "      <td>3.05</td>\n",
              "      <td>3.27</td>\n",
              "      <td>3.25</td>\n",
              "      <td>-53.75</td>\n",
              "      <td>72.50</td>\n",
              "      <td>16.50</td>\n",
              "      <td>3.05</td>\n",
              "      <td>NaN</td>\n",
              "    </tr>\n",
              "    <tr>\n",
              "      <th>1</th>\n",
              "      <td>2019-12-17 20:30:00 UTC</td>\n",
              "      <td>1.89</td>\n",
              "      <td>2.80</td>\n",
              "      <td>3.09</td>\n",
              "      <td>11.19</td>\n",
              "      <td>-53.69</td>\n",
              "      <td>73.88</td>\n",
              "      <td>15.12</td>\n",
              "      <td>2.80</td>\n",
              "      <td>NaN</td>\n",
              "    </tr>\n",
              "    <tr>\n",
              "      <th>2</th>\n",
              "      <td>2019-12-17 21:00:00 UTC</td>\n",
              "      <td>34.62</td>\n",
              "      <td>93.43</td>\n",
              "      <td>141.47</td>\n",
              "      <td>38.00</td>\n",
              "      <td>-53.87</td>\n",
              "      <td>74.07</td>\n",
              "      <td>15.40</td>\n",
              "      <td>63.67</td>\n",
              "      <td>NaN</td>\n",
              "    </tr>\n",
              "    <tr>\n",
              "      <th>3</th>\n",
              "      <td>2019-12-17 21:30:00 UTC</td>\n",
              "      <td>0.89</td>\n",
              "      <td>2.59</td>\n",
              "      <td>3.58</td>\n",
              "      <td>68.00</td>\n",
              "      <td>-55.47</td>\n",
              "      <td>76.53</td>\n",
              "      <td>15.00</td>\n",
              "      <td>2.59</td>\n",
              "      <td>NaN</td>\n",
              "    </tr>\n",
              "    <tr>\n",
              "      <th>4</th>\n",
              "      <td>2019-12-17 22:00:00 UTC</td>\n",
              "      <td>0.00</td>\n",
              "      <td>0.00</td>\n",
              "      <td>0.01</td>\n",
              "      <td>98.00</td>\n",
              "      <td>-54.60</td>\n",
              "      <td>77.00</td>\n",
              "      <td>14.87</td>\n",
              "      <td>0.00</td>\n",
              "      <td>NaN</td>\n",
              "    </tr>\n",
              "  </tbody>\n",
              "</table>\n",
              "</div>"
            ],
            "text/plain": [
              "                created_at  PM1.0_CF1_ug/m3  PM2.5_CF1_ug/m3  \\\n",
              "0  2019-12-17 20:00:00 UTC             1.99             3.05   \n",
              "1  2019-12-17 20:30:00 UTC             1.89             2.80   \n",
              "2  2019-12-17 21:00:00 UTC            34.62            93.43   \n",
              "3  2019-12-17 21:30:00 UTC             0.89             2.59   \n",
              "4  2019-12-17 22:00:00 UTC             0.00             0.00   \n",
              "\n",
              "   PM10.0_CF1_ug/m3  UptimeMinutes  RSSI_dbm  Temperature_F  Humidity_%  \\\n",
              "0              3.27           3.25    -53.75          72.50       16.50   \n",
              "1              3.09          11.19    -53.69          73.88       15.12   \n",
              "2            141.47          38.00    -53.87          74.07       15.40   \n",
              "3              3.58          68.00    -55.47          76.53       15.00   \n",
              "4              0.01          98.00    -54.60          77.00       14.87   \n",
              "\n",
              "   PM2.5_ATM_ug/m3  Unnamed: 9  \n",
              "0             3.05         NaN  \n",
              "1             2.80         NaN  \n",
              "2            63.67         NaN  \n",
              "3             2.59         NaN  \n",
              "4             0.00         NaN  "
            ]
          },
          "metadata": {
            "tags": []
          }
        },
        {
          "output_type": "display_data",
          "data": {
            "text/plain": [
              "(37595, 10)"
            ]
          },
          "metadata": {
            "tags": []
          }
        },
        {
          "output_type": "display_data",
          "data": {
            "text/plain": [
              "created_at           object\n",
              "PM1.0_CF1_ug/m3     float64\n",
              "PM2.5_CF1_ug/m3     float64\n",
              "PM10.0_CF1_ug/m3    float64\n",
              "UptimeMinutes       float64\n",
              "dtype: object"
            ]
          },
          "metadata": {
            "tags": []
          }
        },
        {
          "output_type": "display_data",
          "data": {
            "text/plain": [
              "created_at          False\n",
              "PM1.0_CF1_ug/m3     False\n",
              "PM2.5_CF1_ug/m3     False\n",
              "PM10.0_CF1_ug/m3    False\n",
              "UptimeMinutes       False\n",
              "dtype: bool"
            ]
          },
          "metadata": {
            "tags": []
          }
        },
        {
          "output_type": "display_data",
          "data": {
            "text/html": [
              "<div>\n",
              "<style scoped>\n",
              "    .dataframe tbody tr th:only-of-type {\n",
              "        vertical-align: middle;\n",
              "    }\n",
              "\n",
              "    .dataframe tbody tr th {\n",
              "        vertical-align: top;\n",
              "    }\n",
              "\n",
              "    .dataframe thead th {\n",
              "        text-align: right;\n",
              "    }\n",
              "</style>\n",
              "<table border=\"1\" class=\"dataframe\">\n",
              "  <thead>\n",
              "    <tr style=\"text-align: right;\">\n",
              "      <th></th>\n",
              "      <th>PM1.0_CF1_ug/m3</th>\n",
              "      <th>PM2.5_CF1_ug/m3</th>\n",
              "      <th>PM10.0_CF1_ug/m3</th>\n",
              "      <th>UptimeMinutes</th>\n",
              "      <th>RSSI_dbm</th>\n",
              "      <th>Temperature_F</th>\n",
              "      <th>Humidity_%</th>\n",
              "      <th>PM2.5_ATM_ug/m3</th>\n",
              "      <th>Unnamed: 9</th>\n",
              "    </tr>\n",
              "  </thead>\n",
              "  <tbody>\n",
              "    <tr>\n",
              "      <th>count</th>\n",
              "      <td>37538.000000</td>\n",
              "      <td>37538.000000</td>\n",
              "      <td>37538.000000</td>\n",
              "      <td>37538.000000</td>\n",
              "      <td>37538.000000</td>\n",
              "      <td>37538.000000</td>\n",
              "      <td>37538.000000</td>\n",
              "      <td>37538.000000</td>\n",
              "      <td>0.0</td>\n",
              "    </tr>\n",
              "    <tr>\n",
              "      <th>mean</th>\n",
              "      <td>6.007100</td>\n",
              "      <td>8.584424</td>\n",
              "      <td>9.092260</td>\n",
              "      <td>22233.899164</td>\n",
              "      <td>-66.844293</td>\n",
              "      <td>78.717398</td>\n",
              "      <td>31.854816</td>\n",
              "      <td>7.991469</td>\n",
              "      <td>NaN</td>\n",
              "    </tr>\n",
              "    <tr>\n",
              "      <th>std</th>\n",
              "      <td>10.415071</td>\n",
              "      <td>16.605593</td>\n",
              "      <td>18.286916</td>\n",
              "      <td>18422.876237</td>\n",
              "      <td>8.783105</td>\n",
              "      <td>6.350175</td>\n",
              "      <td>12.522367</td>\n",
              "      <td>12.175910</td>\n",
              "      <td>NaN</td>\n",
              "    </tr>\n",
              "    <tr>\n",
              "      <th>min</th>\n",
              "      <td>0.000000</td>\n",
              "      <td>0.000000</td>\n",
              "      <td>0.000000</td>\n",
              "      <td>2.000000</td>\n",
              "      <td>-87.000000</td>\n",
              "      <td>52.200000</td>\n",
              "      <td>10.000000</td>\n",
              "      <td>0.000000</td>\n",
              "      <td>NaN</td>\n",
              "    </tr>\n",
              "    <tr>\n",
              "      <th>25%</th>\n",
              "      <td>1.470000</td>\n",
              "      <td>2.120000</td>\n",
              "      <td>2.280000</td>\n",
              "      <td>6348.000000</td>\n",
              "      <td>-74.200000</td>\n",
              "      <td>73.930000</td>\n",
              "      <td>22.000000</td>\n",
              "      <td>2.120000</td>\n",
              "      <td>NaN</td>\n",
              "    </tr>\n",
              "    <tr>\n",
              "      <th>50%</th>\n",
              "      <td>3.470000</td>\n",
              "      <td>4.750000</td>\n",
              "      <td>5.030000</td>\n",
              "      <td>18293.000000</td>\n",
              "      <td>-69.930000</td>\n",
              "      <td>79.000000</td>\n",
              "      <td>30.000000</td>\n",
              "      <td>4.750000</td>\n",
              "      <td>NaN</td>\n",
              "    </tr>\n",
              "    <tr>\n",
              "      <th>75%</th>\n",
              "      <td>6.990000</td>\n",
              "      <td>9.580000</td>\n",
              "      <td>10.037500</td>\n",
              "      <td>34524.000000</td>\n",
              "      <td>-58.330000</td>\n",
              "      <td>83.000000</td>\n",
              "      <td>40.530000</td>\n",
              "      <td>9.570000</td>\n",
              "      <td>NaN</td>\n",
              "    </tr>\n",
              "    <tr>\n",
              "      <th>85%</th>\n",
              "      <td>9.860000</td>\n",
              "      <td>13.810000</td>\n",
              "      <td>14.480000</td>\n",
              "      <td>44419.000000</td>\n",
              "      <td>-57.400000</td>\n",
              "      <td>85.800000</td>\n",
              "      <td>46.670000</td>\n",
              "      <td>13.780000</td>\n",
              "      <td>NaN</td>\n",
              "    </tr>\n",
              "    <tr>\n",
              "      <th>95%</th>\n",
              "      <td>19.864500</td>\n",
              "      <td>28.023000</td>\n",
              "      <td>29.471500</td>\n",
              "      <td>58248.000000</td>\n",
              "      <td>-55.800000</td>\n",
              "      <td>89.000000</td>\n",
              "      <td>54.279000</td>\n",
              "      <td>27.500000</td>\n",
              "      <td>NaN</td>\n",
              "    </tr>\n",
              "    <tr>\n",
              "      <th>99%</th>\n",
              "      <td>41.780000</td>\n",
              "      <td>62.187100</td>\n",
              "      <td>65.110000</td>\n",
              "      <td>67808.750000</td>\n",
              "      <td>-54.600000</td>\n",
              "      <td>94.695200</td>\n",
              "      <td>62.244100</td>\n",
              "      <td>45.968900</td>\n",
              "      <td>NaN</td>\n",
              "    </tr>\n",
              "    <tr>\n",
              "      <th>max</th>\n",
              "      <td>360.400000</td>\n",
              "      <td>737.140000</td>\n",
              "      <td>848.470000</td>\n",
              "      <td>71568.000000</td>\n",
              "      <td>-52.600000</td>\n",
              "      <td>105.270000</td>\n",
              "      <td>84.730000</td>\n",
              "      <td>490.740000</td>\n",
              "      <td>NaN</td>\n",
              "    </tr>\n",
              "  </tbody>\n",
              "</table>\n",
              "</div>"
            ],
            "text/plain": [
              "       PM1.0_CF1_ug/m3  PM2.5_CF1_ug/m3  PM10.0_CF1_ug/m3  UptimeMinutes  \\\n",
              "count     37538.000000     37538.000000      37538.000000   37538.000000   \n",
              "mean          6.007100         8.584424          9.092260   22233.899164   \n",
              "std          10.415071        16.605593         18.286916   18422.876237   \n",
              "min           0.000000         0.000000          0.000000       2.000000   \n",
              "25%           1.470000         2.120000          2.280000    6348.000000   \n",
              "50%           3.470000         4.750000          5.030000   18293.000000   \n",
              "75%           6.990000         9.580000         10.037500   34524.000000   \n",
              "85%           9.860000        13.810000         14.480000   44419.000000   \n",
              "95%          19.864500        28.023000         29.471500   58248.000000   \n",
              "99%          41.780000        62.187100         65.110000   67808.750000   \n",
              "max         360.400000       737.140000        848.470000   71568.000000   \n",
              "\n",
              "           RSSI_dbm  Temperature_F    Humidity_%  PM2.5_ATM_ug/m3  Unnamed: 9  \n",
              "count  37538.000000   37538.000000  37538.000000     37538.000000         0.0  \n",
              "mean     -66.844293      78.717398     31.854816         7.991469         NaN  \n",
              "std        8.783105       6.350175     12.522367        12.175910         NaN  \n",
              "min      -87.000000      52.200000     10.000000         0.000000         NaN  \n",
              "25%      -74.200000      73.930000     22.000000         2.120000         NaN  \n",
              "50%      -69.930000      79.000000     30.000000         4.750000         NaN  \n",
              "75%      -58.330000      83.000000     40.530000         9.570000         NaN  \n",
              "85%      -57.400000      85.800000     46.670000        13.780000         NaN  \n",
              "95%      -55.800000      89.000000     54.279000        27.500000         NaN  \n",
              "99%      -54.600000      94.695200     62.244100        45.968900         NaN  \n",
              "max      -52.600000     105.270000     84.730000       490.740000         NaN  "
            ]
          },
          "metadata": {
            "tags": []
          }
        }
      ]
    },
    {
      "cell_type": "markdown",
      "metadata": {
        "id": "6OGeDN9UeTWG"
      },
      "source": [
        "## Processing my data"
      ]
    },
    {
      "cell_type": "code",
      "metadata": {
        "colab": {
          "base_uri": "https://localhost:8080/",
          "height": 204
        },
        "id": "KjMAURFp8zhv",
        "outputId": "bd84cb66-6220-4859-8106-b0b589f85187"
      },
      "source": [
        "# Rename columns\n",
        "df = df.rename(columns = {'created_at': 'dt', 'PM2.5_ATM_ug/m3': 'pm'})\n",
        "\n",
        "\n",
        "# Change index to datetime\n",
        "df['dt'].index = pd.to_datetime(df.index)\n",
        "\n",
        "# Sort the values\n",
        "df = df.sort_index(ascending = True)\n",
        "\n",
        "# Fill values with forward fill\n",
        "df = df.fillna(method='ffill')\n",
        "\n",
        "# Show the end of the data\n",
        "display(df.tail())"
      ],
      "execution_count": 331,
      "outputs": [
        {
          "output_type": "display_data",
          "data": {
            "text/html": [
              "<div>\n",
              "<style scoped>\n",
              "    .dataframe tbody tr th:only-of-type {\n",
              "        vertical-align: middle;\n",
              "    }\n",
              "\n",
              "    .dataframe tbody tr th {\n",
              "        vertical-align: top;\n",
              "    }\n",
              "\n",
              "    .dataframe thead th {\n",
              "        text-align: right;\n",
              "    }\n",
              "</style>\n",
              "<table border=\"1\" class=\"dataframe\">\n",
              "  <thead>\n",
              "    <tr style=\"text-align: right;\">\n",
              "      <th></th>\n",
              "      <th>dt</th>\n",
              "      <th>PM1.0_CF1_ug/m3</th>\n",
              "      <th>PM2.5_CF1_ug/m3</th>\n",
              "      <th>PM10.0_CF1_ug/m3</th>\n",
              "      <th>UptimeMinutes</th>\n",
              "      <th>RSSI_dbm</th>\n",
              "      <th>Temperature_F</th>\n",
              "      <th>Humidity_%</th>\n",
              "      <th>pm</th>\n",
              "      <th>Unnamed: 9</th>\n",
              "    </tr>\n",
              "  </thead>\n",
              "  <tbody>\n",
              "    <tr>\n",
              "      <th>37590</th>\n",
              "      <td>2021-06-06 06:00:00 UTC</td>\n",
              "      <td>40.47</td>\n",
              "      <td>56.64</td>\n",
              "      <td>59.53</td>\n",
              "      <td>798.0</td>\n",
              "      <td>-77.33</td>\n",
              "      <td>86.00</td>\n",
              "      <td>64.00</td>\n",
              "      <td>44.06</td>\n",
              "      <td>NaN</td>\n",
              "    </tr>\n",
              "    <tr>\n",
              "      <th>37591</th>\n",
              "      <td>2021-06-06 06:30:00 UTC</td>\n",
              "      <td>40.47</td>\n",
              "      <td>56.64</td>\n",
              "      <td>59.53</td>\n",
              "      <td>798.0</td>\n",
              "      <td>-77.33</td>\n",
              "      <td>86.00</td>\n",
              "      <td>64.00</td>\n",
              "      <td>44.06</td>\n",
              "      <td>NaN</td>\n",
              "    </tr>\n",
              "    <tr>\n",
              "      <th>37592</th>\n",
              "      <td>2021-06-06 07:00:00 UTC</td>\n",
              "      <td>26.22</td>\n",
              "      <td>37.35</td>\n",
              "      <td>39.07</td>\n",
              "      <td>962.0</td>\n",
              "      <td>-82.31</td>\n",
              "      <td>88.38</td>\n",
              "      <td>62.62</td>\n",
              "      <td>34.06</td>\n",
              "      <td>NaN</td>\n",
              "    </tr>\n",
              "    <tr>\n",
              "      <th>37593</th>\n",
              "      <td>2021-06-06 07:30:00 UTC</td>\n",
              "      <td>23.22</td>\n",
              "      <td>33.16</td>\n",
              "      <td>34.51</td>\n",
              "      <td>990.0</td>\n",
              "      <td>-75.20</td>\n",
              "      <td>89.73</td>\n",
              "      <td>57.33</td>\n",
              "      <td>31.54</td>\n",
              "      <td>NaN</td>\n",
              "    </tr>\n",
              "    <tr>\n",
              "      <th>37594</th>\n",
              "      <td>2021-06-06 08:00:00 UTC</td>\n",
              "      <td>23.23</td>\n",
              "      <td>32.86</td>\n",
              "      <td>33.53</td>\n",
              "      <td>1008.0</td>\n",
              "      <td>-75.67</td>\n",
              "      <td>91.00</td>\n",
              "      <td>55.33</td>\n",
              "      <td>31.37</td>\n",
              "      <td>NaN</td>\n",
              "    </tr>\n",
              "  </tbody>\n",
              "</table>\n",
              "</div>"
            ],
            "text/plain": [
              "                            dt  PM1.0_CF1_ug/m3  PM2.5_CF1_ug/m3  \\\n",
              "37590  2021-06-06 06:00:00 UTC            40.47            56.64   \n",
              "37591  2021-06-06 06:30:00 UTC            40.47            56.64   \n",
              "37592  2021-06-06 07:00:00 UTC            26.22            37.35   \n",
              "37593  2021-06-06 07:30:00 UTC            23.22            33.16   \n",
              "37594  2021-06-06 08:00:00 UTC            23.23            32.86   \n",
              "\n",
              "       PM10.0_CF1_ug/m3  UptimeMinutes  RSSI_dbm  Temperature_F  Humidity_%  \\\n",
              "37590             59.53          798.0    -77.33          86.00       64.00   \n",
              "37591             59.53          798.0    -77.33          86.00       64.00   \n",
              "37592             39.07          962.0    -82.31          88.38       62.62   \n",
              "37593             34.51          990.0    -75.20          89.73       57.33   \n",
              "37594             33.53         1008.0    -75.67          91.00       55.33   \n",
              "\n",
              "          pm  Unnamed: 9  \n",
              "37590  44.06         NaN  \n",
              "37591  44.06         NaN  \n",
              "37592  34.06         NaN  \n",
              "37593  31.54         NaN  \n",
              "37594  31.37         NaN  "
            ]
          },
          "metadata": {
            "tags": []
          }
        }
      ]
    },
    {
      "cell_type": "markdown",
      "metadata": {
        "id": "K2Tou1jnBgFP"
      },
      "source": [
        "## Plot my data\n",
        "- Is there an overall increasing trend?\n",
        "- Are there some differences in the variance over time? \n",
        "- There may be some seasonality (i.e., cycles) in the data."
      ]
    },
    {
      "cell_type": "code",
      "metadata": {
        "colab": {
          "base_uri": "https://localhost:8080/",
          "height": 337
        },
        "id": "FpZOCpfc8xWz",
        "outputId": "18cd9b22-d835-4780-f032-b2539d7fd7e9"
      },
      "source": [
        "df.plot(x=\"dt\", y= 'pm', figsize=(20,4))\n",
        "plt.title(\"PM2.5 measurement in Port Harcourt\\nbetween 2021-07-27 to 2021-08-03\", size=15)\n",
        "plt.xlabel('TIME', size=12)\n",
        "plt.ylabel('PM2.5', size=12)"
      ],
      "execution_count": 332,
      "outputs": [
        {
          "output_type": "execute_result",
          "data": {
            "text/plain": [
              "Text(0, 0.5, 'PM2.5')"
            ]
          },
          "metadata": {
            "tags": []
          },
          "execution_count": 332
        },
        {
          "output_type": "display_data",
          "data": {
            "image/png": "[encoded data removed]",
            "text/plain": [
              "<Figure size 1440x288 with 1 Axes>"
            ]
          },
          "metadata": {
            "tags": [],
            "needs_background": "light"
          }
        }
      ]
    },
    {
      "cell_type": "markdown",
      "metadata": {
        "id": "aFR3se7N5MZR"
      },
      "source": [
        "## Look at stationarity\n",
        "Some time-series models, such as ARIMA, assume that the underlying data is stationary but before applying any statistical model on a Time Series, the series has to be staionary, which means that, over different time periods,\n",
        "*  It should have constant mean.\n",
        "*  It should have constant variance or standard deviation.\n",
        "*  Auto-covariance (used to estimate. the dominant periods in the time series) should not depend on time.\n",
        "\n",
        "If a time series has a specific (stationary) behavior over a given time interval, then it can be assumed that the time series will behave the same at a later time.\n",
        "\n",
        "Time series with trend and/or seasonality are not stationary. Trend indicates that the mean is not constant over time and seasonality indicates that the variance is not constant over time."
      ]
    },
    {
      "cell_type": "markdown",
      "metadata": {
        "id": "x_I_x_07C8wE"
      },
      "source": [
        "### The check for stationarity can be done via these three different approaches:\n",
        "\n",
        "* visually: plot time series and check for trends or seasonality\n",
        "* basic statistics: split time series and compare the mean and variance of each partition\n",
        "* statistical test: Augmented Dickey Fuller test (which we will explore)"
      ]
    },
    {
      "cell_type": "markdown",
      "metadata": {
        "id": "ni7uXwRmFOPi"
      },
      "source": [
        "Augmented Dickey-Fuller (ADF) test is a type of statistical test called a unit root test. Unit roots are a cause for non-stationarity.\n",
        "\n",
        "Null Hypothesis (H0): Time series has a unit root. (Time series is not stationary).\n",
        "\n",
        "Alternate Hypothesis (H1): Time series has no unit root (Time series is stationary).\n",
        "\n",
        "If the null hypothesis can be rejected, we can conclude that the time series is stationary.\n",
        "\n",
        "There are two ways to rejects the null hypothesis:\n",
        "\n",
        "On the one hand, the null hypothesis can be rejected if the p-value is below a set significance level. The defaults significance level is 5%\n",
        "\n",
        "**p-value > significance level (default: 0.05)**: Fail to reject the null hypothesis (H0), the data has a unit root and is non-stationary.\n",
        "**p-value <= significance level (default: 0.05)**: Reject the null hypothesis (H0), the data does not have a unit root and is stationary.\n",
        "On the other hand, the null hypothesis can be rejects if the test statistic is less than the critical value.\n",
        "\n",
        "**ADF statistic > critical value**: Fail to reject the null hypothesis (H0), the data has a unit root and is non-stationary.\n",
        "**ADF statistic < critical value**: Reject the null hypothesis (H0), the data does not have a unit root and is stationary."
      ]
    },
    {
      "cell_type": "code",
      "metadata": {
        "id": "RG2UQ8kK7oUJ"
      },
      "source": [
        "from statsmodels.tsa.stattools import adfuller\n",
        "def test_stationarity(df, pm):\n",
        "    \"\"\"\n",
        "    Test stationarity using moving average statistics and Dickey-Fuller test\n",
        "    Source: https://www.analyticsvidhya.com/blog/2016/02/time-series-forecasting-codes-python/\n",
        "    \"\"\"\n",
        "    \n",
        "    # Determing rolling statistics\n",
        "    rolmean = df[pm].rolling(window = 12, center = False).mean()\n",
        "    rolstd = df[pm].rolling(window = 12, center = False).std()\n",
        "\n",
        "    # Plot rolling statistics:\n",
        "    orig = plt.plot(df[pm], \n",
        "                    color = 'blue', \n",
        "                    label = 'Original')\n",
        "    mean = plt.plot(rolmean, \n",
        "                    color = 'red', \n",
        "                    label = 'Rolling Mean')\n",
        "    std = plt.plot(rolstd, \n",
        "                   color = 'black', \n",
        "                   label = 'Rolling Std')\n",
        "    plt.legend(loc = 'best')\n",
        "    plt.title('Rolling Mean & Standard Deviation for %s' %(pm))\n",
        "    plt.xticks(rotation = 45)\n",
        "    plt.show(block = False)\n",
        "    plt.close()\n",
        "    \n",
        "    # Perform Dickey-Fuller test:\n",
        "    # Null Hypothesis (H_0): time series is not stationary\n",
        "    # Alternate Hypothesis (H_1): time series is stationary\n",
        "    print ('Results of Dickey-Fuller Test:')\n",
        "    dftest = adfuller(df[pm], \n",
        "                      autolag='AIC')\n",
        "    dfoutput = pd.Series(dftest[0:4], \n",
        "                         index = ['Test Statistic',\n",
        "                                  'p-value',\n",
        "                                  '# Lags Used',\n",
        "                                  'Number of Observations Used'])\n",
        "    for key, value in dftest[4].items():\n",
        "        dfoutput['Critical Value (%s)'%key] = value\n",
        "    print (dfoutput)"
      ],
      "execution_count": 333,
      "outputs": []
    },
    {
      "cell_type": "code",
      "metadata": {
        "colab": {
          "base_uri": "https://localhost:8080/",
          "height": 459
        },
        "id": "tbziac6t7r_d",
        "outputId": "ff12cf41-fa0a-45f5-d15d-18f8f2eef595"
      },
      "source": [
        "test_stationarity(df = df, pm = 'pm')"
      ],
      "execution_count": 334,
      "outputs": [
        {
          "output_type": "display_data",
          "data": {
            "image/png": "[encoded data removed]",
            "text/plain": [
              "<Figure size 432x288 with 1 Axes>"
            ]
          },
          "metadata": {
            "tags": [],
            "needs_background": "light"
          }
        },
        {
          "output_type": "stream",
          "text": [
            "Results of Dickey-Fuller Test:\n",
            "Test Statistic                -1.101329e+01\n",
            "p-value                        6.246760e-20\n",
            "# Lags Used                    5.300000e+01\n",
            "Number of Observations Used    3.754100e+04\n",
            "Critical Value (1%)           -3.430524e+00\n",
            "Critical Value (5%)           -2.861617e+00\n",
            "Critical Value (10%)          -2.566811e+00\n",
            "dtype: float64\n"
          ],
          "name": "stdout"
        }
      ]
    },
    {
      "cell_type": "markdown",
      "metadata": {
        "id": "jK6ldw3J-Hoe"
      },
      "source": [
        "## Correct for stationarity\n",
        "\n",
        "It is common for time series data to have to correct for non-stationarity. \n",
        "\n",
        "The two common reasons behind non-stationarity are:\n",
        "\n",
        "1. **Trend** – mean is not constant over time.\n",
        "2. **Seasonality** – variance is not constant over time.\n"
      ]
    },
    {
      "cell_type": "markdown",
      "metadata": {
        "id": "jF9Jiz_EOMqt"
      },
      "source": [
        "**What happens if you do not correct for these things?**\n",
        "\n",
        "Many things can happen, including:\n",
        "- Variance can be mis-specified\n",
        "- Model fit can be worse.  \n",
        "- Not leveraging valuable time-dependent nature of the data.  \n",
        " \n"
      ]
    },
    {
      "cell_type": "markdown",
      "metadata": {
        "id": "PiFJF8dl-65Q"
      },
      "source": [
        "## Ways to correct for trend and seasonality, to make the time series stationary.\n",
        "The three most common methods to achieve stationarity are:\n",
        "\n",
        "*   **Transformation**\n",
        "  *   *Examples.* Log, square root, etc.\n",
        "  *   We are going to look at log.\n",
        "*   **Smoothing**\n",
        "  *  *Examples.* Weekly average, monthly average, rolling averages.\n",
        "  *   We are going to look at weekly average.\n",
        "*   **Differencing**\n",
        "  *  *Examples.* First-order differencing, Second-order differencing\n",
        "  *   We are going to look at first-order differencing."
      ]
    },
    {
      "cell_type": "markdown",
      "metadata": {
        "id": "BfrkICrsekce"
      },
      "source": [
        "## Transformation, Smoothing, and Differencing\n",
        "**Looking at our data:**\n",
        "- Applying log transformation, weekly moving average smoothing, and differencing together can make our data more stationary over time. Based on **Dickey-Fuller test**, because p = < 0.05, we fail to reject the null hypothesis (that the time series is not stationary) at the p = 0.05 level, thus concluding that the **time series is stationary**."
      ]
    },
    {
      "cell_type": "code",
      "metadata": {
        "id": "YVCmLXNfKLBh"
      },
      "source": [
        "def plot_transformed_data(df, pm, pm_transform):\n",
        "  \"\"\"\n",
        "  Plot transformed and original time series data\n",
        "  \"\"\"\n",
        "  # Plot time series data\n",
        "  f, ax = plt.subplots(1,1)\n",
        "  ax.plot(df[pm])\n",
        "  ax.plot(df[pm_transform], color = 'red')\n",
        "\n",
        "  # Add title\n",
        "  ax.set_title('%s and %s time-series graph' %(pm, pm_transform))\n",
        "\n",
        "  # Rotate x-labels\n",
        "  ax.tick_params(axis = 'x', rotation = 45)\n",
        "\n",
        "  # Add legend\n",
        "  ax.legend([pm, pm_transform])\n",
        "  \n",
        "  plt.show()\n",
        "  plt.close()\n",
        "  \n",
        "  return"
      ],
      "execution_count": 335,
      "outputs": []
    },
    {
      "cell_type": "code",
      "metadata": {
        "colab": {
          "base_uri": "https://localhost:8080/",
          "height": 1000
        },
        "id": "Qx_6oozH-4_L",
        "outputId": "f708b6b5-431e-4f92-c0ae-8147fac5db3f"
      },
      "source": [
        "# Transformation - log ts\n",
        "df['pm_log'] = df['pm'].apply(lambda x: np.log(x))\n",
        "\n",
        "\n",
        "# Display data\n",
        "display(df.head(10))\n",
        "\n",
        "\n",
        "#df = df['pm_log'].dropna()\n",
        "\n",
        "\n",
        "# Plot data\n",
        "plot_transformed_data(df = df, \n",
        "                      pm = 'pm', \n",
        "                      pm_transform = 'pm_log') \n",
        "  \n",
        "df = df[ ~( df.isin( [np.inf, -np.inf]).any(axis =1) )]\n",
        "\n",
        "# Perform stationarity test\n",
        "test_stationarity(df = df, \n",
        "                  pm = 'pm_log')\n",
        "\n"
      ],
      "execution_count": 336,
      "outputs": [
        {
          "output_type": "display_data",
          "data": {
            "text/html": [
              "<div>\n",
              "<style scoped>\n",
              "    .dataframe tbody tr th:only-of-type {\n",
              "        vertical-align: middle;\n",
              "    }\n",
              "\n",
              "    .dataframe tbody tr th {\n",
              "        vertical-align: top;\n",
              "    }\n",
              "\n",
              "    .dataframe thead th {\n",
              "        text-align: right;\n",
              "    }\n",
              "</style>\n",
              "<table border=\"1\" class=\"dataframe\">\n",
              "  <thead>\n",
              "    <tr style=\"text-align: right;\">\n",
              "      <th></th>\n",
              "      <th>dt</th>\n",
              "      <th>PM1.0_CF1_ug/m3</th>\n",
              "      <th>PM2.5_CF1_ug/m3</th>\n",
              "      <th>PM10.0_CF1_ug/m3</th>\n",
              "      <th>UptimeMinutes</th>\n",
              "      <th>RSSI_dbm</th>\n",
              "      <th>Temperature_F</th>\n",
              "      <th>Humidity_%</th>\n",
              "      <th>pm</th>\n",
              "      <th>Unnamed: 9</th>\n",
              "      <th>pm_log</th>\n",
              "    </tr>\n",
              "  </thead>\n",
              "  <tbody>\n",
              "    <tr>\n",
              "      <th>0</th>\n",
              "      <td>2019-12-17 20:00:00 UTC</td>\n",
              "      <td>1.99</td>\n",
              "      <td>3.05</td>\n",
              "      <td>3.27</td>\n",
              "      <td>3.25</td>\n",
              "      <td>-53.75</td>\n",
              "      <td>72.50</td>\n",
              "      <td>16.50</td>\n",
              "      <td>3.05</td>\n",
              "      <td>NaN</td>\n",
              "      <td>1.115142</td>\n",
              "    </tr>\n",
              "    <tr>\n",
              "      <th>1</th>\n",
              "      <td>2019-12-17 20:30:00 UTC</td>\n",
              "      <td>1.89</td>\n",
              "      <td>2.80</td>\n",
              "      <td>3.09</td>\n",
              "      <td>11.19</td>\n",
              "      <td>-53.69</td>\n",
              "      <td>73.88</td>\n",
              "      <td>15.12</td>\n",
              "      <td>2.80</td>\n",
              "      <td>NaN</td>\n",
              "      <td>1.029619</td>\n",
              "    </tr>\n",
              "    <tr>\n",
              "      <th>2</th>\n",
              "      <td>2019-12-17 21:00:00 UTC</td>\n",
              "      <td>34.62</td>\n",
              "      <td>93.43</td>\n",
              "      <td>141.47</td>\n",
              "      <td>38.00</td>\n",
              "      <td>-53.87</td>\n",
              "      <td>74.07</td>\n",
              "      <td>15.40</td>\n",
              "      <td>63.67</td>\n",
              "      <td>NaN</td>\n",
              "      <td>4.153713</td>\n",
              "    </tr>\n",
              "    <tr>\n",
              "      <th>3</th>\n",
              "      <td>2019-12-17 21:30:00 UTC</td>\n",
              "      <td>0.89</td>\n",
              "      <td>2.59</td>\n",
              "      <td>3.58</td>\n",
              "      <td>68.00</td>\n",
              "      <td>-55.47</td>\n",
              "      <td>76.53</td>\n",
              "      <td>15.00</td>\n",
              "      <td>2.59</td>\n",
              "      <td>NaN</td>\n",
              "      <td>0.951658</td>\n",
              "    </tr>\n",
              "    <tr>\n",
              "      <th>4</th>\n",
              "      <td>2019-12-17 22:00:00 UTC</td>\n",
              "      <td>0.00</td>\n",
              "      <td>0.00</td>\n",
              "      <td>0.01</td>\n",
              "      <td>98.00</td>\n",
              "      <td>-54.60</td>\n",
              "      <td>77.00</td>\n",
              "      <td>14.87</td>\n",
              "      <td>0.00</td>\n",
              "      <td>NaN</td>\n",
              "      <td>NaN</td>\n",
              "    </tr>\n",
              "    <tr>\n",
              "      <th>5</th>\n",
              "      <td>2019-12-17 22:30:00 UTC</td>\n",
              "      <td>0.00</td>\n",
              "      <td>0.00</td>\n",
              "      <td>0.00</td>\n",
              "      <td>127.00</td>\n",
              "      <td>-55.50</td>\n",
              "      <td>78.14</td>\n",
              "      <td>14.00</td>\n",
              "      <td>0.00</td>\n",
              "      <td>NaN</td>\n",
              "      <td>NaN</td>\n",
              "    </tr>\n",
              "    <tr>\n",
              "      <th>6</th>\n",
              "      <td>2019-12-18 15:30:00 UTC</td>\n",
              "      <td>40.46</td>\n",
              "      <td>109.17</td>\n",
              "      <td>165.65</td>\n",
              "      <td>12.00</td>\n",
              "      <td>-59.18</td>\n",
              "      <td>70.91</td>\n",
              "      <td>14.00</td>\n",
              "      <td>73.73</td>\n",
              "      <td>NaN</td>\n",
              "      <td>4.300410</td>\n",
              "    </tr>\n",
              "    <tr>\n",
              "      <th>7</th>\n",
              "      <td>2019-12-18 16:00:00 UTC</td>\n",
              "      <td>1.90</td>\n",
              "      <td>5.17</td>\n",
              "      <td>6.98</td>\n",
              "      <td>38.00</td>\n",
              "      <td>-58.73</td>\n",
              "      <td>74.20</td>\n",
              "      <td>13.20</td>\n",
              "      <td>5.08</td>\n",
              "      <td>NaN</td>\n",
              "      <td>1.625311</td>\n",
              "    </tr>\n",
              "    <tr>\n",
              "      <th>8</th>\n",
              "      <td>2019-12-18 16:30:00 UTC</td>\n",
              "      <td>0.00</td>\n",
              "      <td>0.00</td>\n",
              "      <td>0.02</td>\n",
              "      <td>68.00</td>\n",
              "      <td>-59.40</td>\n",
              "      <td>75.53</td>\n",
              "      <td>13.00</td>\n",
              "      <td>0.00</td>\n",
              "      <td>NaN</td>\n",
              "      <td>NaN</td>\n",
              "    </tr>\n",
              "    <tr>\n",
              "      <th>9</th>\n",
              "      <td>2019-12-18 17:00:00 UTC</td>\n",
              "      <td>0.00</td>\n",
              "      <td>0.00</td>\n",
              "      <td>0.00</td>\n",
              "      <td>89.00</td>\n",
              "      <td>-60.67</td>\n",
              "      <td>76.50</td>\n",
              "      <td>12.00</td>\n",
              "      <td>0.00</td>\n",
              "      <td>NaN</td>\n",
              "      <td>NaN</td>\n",
              "    </tr>\n",
              "  </tbody>\n",
              "</table>\n",
              "</div>"
            ],
            "text/plain": [
              "                        dt  PM1.0_CF1_ug/m3  PM2.5_CF1_ug/m3  \\\n",
              "0  2019-12-17 20:00:00 UTC             1.99             3.05   \n",
              "1  2019-12-17 20:30:00 UTC             1.89             2.80   \n",
              "2  2019-12-17 21:00:00 UTC            34.62            93.43   \n",
              "3  2019-12-17 21:30:00 UTC             0.89             2.59   \n",
              "4  2019-12-17 22:00:00 UTC             0.00             0.00   \n",
              "5  2019-12-17 22:30:00 UTC             0.00             0.00   \n",
              "6  2019-12-18 15:30:00 UTC            40.46           109.17   \n",
              "7  2019-12-18 16:00:00 UTC             1.90             5.17   \n",
              "8  2019-12-18 16:30:00 UTC             0.00             0.00   \n",
              "9  2019-12-18 17:00:00 UTC             0.00             0.00   \n",
              "\n",
              "   PM10.0_CF1_ug/m3  UptimeMinutes  RSSI_dbm  Temperature_F  Humidity_%  \\\n",
              "0              3.27           3.25    -53.75          72.50       16.50   \n",
              "1              3.09          11.19    -53.69          73.88       15.12   \n",
              "2            141.47          38.00    -53.87          74.07       15.40   \n",
              "3              3.58          68.00    -55.47          76.53       15.00   \n",
              "4              0.01          98.00    -54.60          77.00       14.87   \n",
              "5              0.00         127.00    -55.50          78.14       14.00   \n",
              "6            165.65          12.00    -59.18          70.91       14.00   \n",
              "7              6.98          38.00    -58.73          74.20       13.20   \n",
              "8              0.02          68.00    -59.40          75.53       13.00   \n",
              "9              0.00          89.00    -60.67          76.50       12.00   \n",
              "\n",
              "      pm  Unnamed: 9    pm_log  \n",
              "0   3.05         NaN  1.115142  \n",
              "1   2.80         NaN  1.029619  \n",
              "2  63.67         NaN  4.153713  \n",
              "3   2.59         NaN  0.951658  \n",
              "4   0.00         NaN       NaN  \n",
              "5   0.00         NaN       NaN  \n",
              "6  73.73         NaN  4.300410  \n",
              "7   5.08         NaN  1.625311  \n",
              "8   0.00         NaN       NaN  \n",
              "9   0.00         NaN       NaN  "
            ]
          },
          "metadata": {
            "tags": []
          }
        },
        {
          "output_type": "display_data",
          "data": {
            "image/png": "[encoded data removed]",
            "text/plain": [
              "<Figure size 432x288 with 1 Axes>"
            ]
          },
          "metadata": {
            "tags": [],
            "needs_background": "light"
          }
        },
        {
          "output_type": "display_data",
          "data": {
            "image/png": "[encoded data removed]",
            "text/plain": [
              "<Figure size 432x288 with 1 Axes>"
            ]
          },
          "metadata": {
            "tags": [],
            "needs_background": "light"
          }
        },
        {
          "output_type": "stream",
          "text": [
            "Results of Dickey-Fuller Test:\n",
            "Test Statistic                -1.045326e+01\n",
            "p-value                        1.420011e-18\n",
            "# Lags Used                    5.300000e+01\n",
            "Number of Observations Used    3.678700e+04\n",
            "Critical Value (1%)           -3.430528e+00\n",
            "Critical Value (5%)           -2.861619e+00\n",
            "Critical Value (10%)          -2.566812e+00\n",
            "dtype: float64\n"
          ],
          "name": "stdout"
        }
      ]
    },
    {
      "cell_type": "code",
      "metadata": {
        "id": "aOQUI6LC1KsE"
      },
      "source": [
        ""
      ],
      "execution_count": 336,
      "outputs": []
    }
  ]
}