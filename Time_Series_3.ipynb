{
  "nbformat": 4,
  "nbformat_minor": 0,
  "metadata": {
    "colab": {
      "name": "Time Series 3",
      "provenance": [],
      "collapsed_sections": [],
      "authorship_tag": "ABX9TyNx6TaR6qgo5jUB3+piR8uI",
      "include_colab_link": true
    },
    "kernelspec": {
      "display_name": "Python 3",
      "name": "python3"
    },
    "language_info": {
      "name": "python"
    }
  },
  "cells": [
    {
      "cell_type": "markdown",
      "metadata": {
        "id": "view-in-github",
        "colab_type": "text"
      },
      "source": [
        "<a href=\"https://colab.research.google.com/github/gideononyewuenyi/Time-Series-Analysis/blob/main/Time_Series_3.ipynb\" target=\"_parent\"><img src=\"https://colab.research.google.com/assets/colab-badge.svg\" alt=\"Open In Colab\"/></a>"
      ]
    },
    {
      "cell_type": "markdown",
      "metadata": {
        "id": "tq4lwdYnGS6z"
      },
      "source": [
        "# TIME SERIES FORECASTING"
      ]
    },
    {
      "cell_type": "markdown",
      "metadata": {
        "id": "PBymxw-x3Tj5"
      },
      "source": [
        "## Problem statement"
      ]
    },
    {
      "cell_type": "markdown",
      "metadata": {
        "id": "tRP0QS4PDEp1"
      },
      "source": [
        "Air pollution has been a major problem faced in Nigeria especially in the southern part of the country that’s plagued with soot resulting from illegal refining of crude oil, flaring of gases, and uncontrolled emission from automobiles. (https://qz.com/africa/912374/nigerian-city-of-port-harcourt-is-dealing-with-with-a-mystery-soot-air-pollution-panic/)\n",
        "(https://twitter.com/FMEnvng/status/831561428414763009)\n"
      ]
    },
    {
      "cell_type": "markdown",
      "metadata": {
        "id": "3aZ3mhB03W6-"
      },
      "source": [
        "## What is my goal?"
      ]
    },
    {
      "cell_type": "markdown",
      "metadata": {
        "id": "yrHDXkD2DHEh"
      },
      "source": [
        "Our goal is to be able to predict the amount of air pollution (PM 2.5) over a period of time \n",
        "* (To determine air quality in an area, pollutant concentrations are physically measured and reported. The AQI is calculated based on the average concentration of a particular pollutant measured over a standard time interval (24 hours for most pollutants, 8 hours for carbon monoxide and ozone), you can learn more here:\n",
        "https://fit.thequint.com/health-news/explaining-air-quality-index#read-more  \n",
        "https://cpcb.nic.in/displaypdf.php?id=bmF0aW9uYWwtYWlyLXF1YWxpdHktaW5kZXgvQWJvdXRfQVFJLnBkZg== )\n"
      ]
    },
    {
      "cell_type": "markdown",
      "metadata": {
        "id": "JN4wDp4J7lAF"
      },
      "source": [
        "#### **Time Series** is a series of observations taken at specified time intervals usually equal intervals. Analysis of the series helps us to predict future values based on previous observed values. In Time series, we have only 2 variables, time & the variable we want to forecast.\n",
        "\n",
        "#### It can help us to understand past behaviour and predict the future"
      ]
    },
    {
      "cell_type": "markdown",
      "metadata": {
        "id": "oWUkJA5PMk2T"
      },
      "source": [
        "## Import some relevant packages"
      ]
    },
    {
      "cell_type": "code",
      "metadata": {
        "id": "rFBRgwp9n4vE"
      },
      "source": [
        "import numpy as np\n",
        "import pandas as pd\n",
        "import matplotlib.pyplot as plt\n",
        "import datetime\n",
        "from datetime import datetime\n",
        "from IPython.display import display, HTML, display_html\n",
        "%matplotlib inline\n",
        "\n",
        "import warnings\n",
        "warnings.filterwarnings(\"ignore\")"
      ],
      "execution_count": null,
      "outputs": []
    },
    {
      "cell_type": "markdown",
      "metadata": {
        "id": "edpDK8G7TBvS"
      },
      "source": [
        "## Read in my data"
      ]
    },
    {
      "cell_type": "markdown",
      "metadata": {
        "id": "YQyiXbtdwae1"
      },
      "source": [
        "In this notebook, we will be using a dataset of air quality obtained from the Purpleair sensor in Port Harcourt, Nigeria"
      ]
    },
    {
      "cell_type": "code",
      "metadata": {
        "id": "KP9zX-BUoTYa"
      },
      "source": [
        "#url = \"https://raw.githubusercontent.com/gideononyewuenyi/Exploratory-analysis/main/Lekki%20Phase%201%20(outside)%20(6.451397%203.471201)%20Primary%2030_minute_average%2012_17_2019%206_6_2021.csv\"\n",
        "#df = pd.read_csv (url)\n",
        "url = \"https://raw.githubusercontent.com/gideononyewuenyi/Time-Series-Forecasting/main/Port%20Harcourt%2C%20Nigeria%20(outside)%20(4.80678%207.002953)%20Primary%20Real%20Time%2007_27_2021%2008_03_2021.csv\"\n",
        "df = pd.read_csv (url)"
      ],
      "execution_count": null,
      "outputs": []
    },
    {
      "cell_type": "markdown",
      "metadata": {
        "id": "0iFBq8iNg30L"
      },
      "source": [
        "## Take a look at my data\n",
        "- How many rows and columns are in the dataset?\n",
        "- What data types are the columns?\n",
        "- Is the data complete? Are there nulls? \n"
      ]
    },
    {
      "cell_type": "code",
      "metadata": {
        "id": "2Jn55hjsBMCj",
        "colab": {
          "base_uri": "https://localhost:8080/",
          "height": 900
        },
        "outputId": "0023bad4-6d2a-4b2c-844a-82598511b8f0"
      },
      "source": [
        "# look at data\n",
        "display(df.head())\n",
        "\n",
        "# look a shape of data\n",
        "display(df.shape)\n",
        "\n",
        "# look at data types. Ideally look at all rows. Only look at first five here for minimal output.\n",
        "display(df.iloc[:5,:5].dtypes)\n",
        "\n",
        "# see if any columns have nulls. Ideally look at all rows. Only look at first five here for minimal output.\n",
        "display(df.iloc[:5,:5].isnull().any())\n",
        "\n",
        "# display descriptive statistics\n",
        "display(df.describe(percentiles=[0.25,0.5,0.75,0.85,0.95,0.99]))"
      ],
      "execution_count": null,
      "outputs": [
        {
          "output_type": "display_data",
          "data": {
            "text/html": [
              "<div>\n",
              "<style scoped>\n",
              "    .dataframe tbody tr th:only-of-type {\n",
              "        vertical-align: middle;\n",
              "    }\n",
              "\n",
              "    .dataframe tbody tr th {\n",
              "        vertical-align: top;\n",
              "    }\n",
              "\n",
              "    .dataframe thead th {\n",
              "        text-align: right;\n",
              "    }\n",
              "</style>\n",
              "<table border=\"1\" class=\"dataframe\">\n",
              "  <thead>\n",
              "    <tr style=\"text-align: right;\">\n",
              "      <th></th>\n",
              "      <th>created_at</th>\n",
              "      <th>entry_id</th>\n",
              "      <th>PM1.0_CF1_ug/m3</th>\n",
              "      <th>PM2.5_CF1_ug/m3</th>\n",
              "      <th>PM10.0_CF1_ug/m3</th>\n",
              "      <th>UptimeMinutes</th>\n",
              "      <th>RSSI_dbm</th>\n",
              "      <th>Temperature_F</th>\n",
              "      <th>Humidity_%</th>\n",
              "      <th>PM2.5_ATM_ug/m3</th>\n",
              "      <th>Unnamed: 10</th>\n",
              "    </tr>\n",
              "  </thead>\n",
              "  <tbody>\n",
              "    <tr>\n",
              "      <th>0</th>\n",
              "      <td>2021-07-27 00:00:05 UTC</td>\n",
              "      <td>413</td>\n",
              "      <td>105.25</td>\n",
              "      <td>189.56</td>\n",
              "      <td>230.30</td>\n",
              "      <td>436.0</td>\n",
              "      <td>-53.0</td>\n",
              "      <td>82.0</td>\n",
              "      <td>63.0</td>\n",
              "      <td>125.72</td>\n",
              "      <td>NaN</td>\n",
              "    </tr>\n",
              "    <tr>\n",
              "      <th>1</th>\n",
              "      <td>2021-07-27 00:02:06 UTC</td>\n",
              "      <td>414</td>\n",
              "      <td>113.47</td>\n",
              "      <td>202.76</td>\n",
              "      <td>239.84</td>\n",
              "      <td>438.0</td>\n",
              "      <td>-53.0</td>\n",
              "      <td>82.0</td>\n",
              "      <td>63.0</td>\n",
              "      <td>134.43</td>\n",
              "      <td>NaN</td>\n",
              "    </tr>\n",
              "    <tr>\n",
              "      <th>2</th>\n",
              "      <td>2021-07-27 00:04:05 UTC</td>\n",
              "      <td>415</td>\n",
              "      <td>119.02</td>\n",
              "      <td>217.44</td>\n",
              "      <td>259.56</td>\n",
              "      <td>440.0</td>\n",
              "      <td>-53.0</td>\n",
              "      <td>82.0</td>\n",
              "      <td>63.0</td>\n",
              "      <td>144.21</td>\n",
              "      <td>NaN</td>\n",
              "    </tr>\n",
              "    <tr>\n",
              "      <th>3</th>\n",
              "      <td>2021-07-27 00:06:05 UTC</td>\n",
              "      <td>416</td>\n",
              "      <td>126.20</td>\n",
              "      <td>226.43</td>\n",
              "      <td>273.25</td>\n",
              "      <td>442.0</td>\n",
              "      <td>-53.0</td>\n",
              "      <td>82.0</td>\n",
              "      <td>63.0</td>\n",
              "      <td>150.29</td>\n",
              "      <td>NaN</td>\n",
              "    </tr>\n",
              "    <tr>\n",
              "      <th>4</th>\n",
              "      <td>2021-07-27 00:08:06 UTC</td>\n",
              "      <td>417</td>\n",
              "      <td>131.48</td>\n",
              "      <td>243.86</td>\n",
              "      <td>291.41</td>\n",
              "      <td>444.0</td>\n",
              "      <td>-53.0</td>\n",
              "      <td>82.0</td>\n",
              "      <td>63.0</td>\n",
              "      <td>161.82</td>\n",
              "      <td>NaN</td>\n",
              "    </tr>\n",
              "  </tbody>\n",
              "</table>\n",
              "</div>"
            ],
            "text/plain": [
              "                created_at  entry_id  ...  PM2.5_ATM_ug/m3  Unnamed: 10\n",
              "0  2021-07-27 00:00:05 UTC       413  ...           125.72          NaN\n",
              "1  2021-07-27 00:02:06 UTC       414  ...           134.43          NaN\n",
              "2  2021-07-27 00:04:05 UTC       415  ...           144.21          NaN\n",
              "3  2021-07-27 00:06:05 UTC       416  ...           150.29          NaN\n",
              "4  2021-07-27 00:08:06 UTC       417  ...           161.82          NaN\n",
              "\n",
              "[5 rows x 11 columns]"
            ]
          },
          "metadata": {
            "tags": []
          }
        },
        {
          "output_type": "display_data",
          "data": {
            "text/plain": [
              "(5461, 11)"
            ]
          },
          "metadata": {
            "tags": []
          }
        },
        {
          "output_type": "display_data",
          "data": {
            "text/plain": [
              "created_at           object\n",
              "entry_id              int64\n",
              "PM1.0_CF1_ug/m3     float64\n",
              "PM2.5_CF1_ug/m3     float64\n",
              "PM10.0_CF1_ug/m3    float64\n",
              "dtype: object"
            ]
          },
          "metadata": {
            "tags": []
          }
        },
        {
          "output_type": "display_data",
          "data": {
            "text/plain": [
              "created_at          False\n",
              "entry_id            False\n",
              "PM1.0_CF1_ug/m3     False\n",
              "PM2.5_CF1_ug/m3     False\n",
              "PM10.0_CF1_ug/m3    False\n",
              "dtype: bool"
            ]
          },
          "metadata": {
            "tags": []
          }
        },
        {
          "output_type": "display_data",
          "data": {
            "text/html": [
              "<div>\n",
              "<style scoped>\n",
              "    .dataframe tbody tr th:only-of-type {\n",
              "        vertical-align: middle;\n",
              "    }\n",
              "\n",
              "    .dataframe tbody tr th {\n",
              "        vertical-align: top;\n",
              "    }\n",
              "\n",
              "    .dataframe thead th {\n",
              "        text-align: right;\n",
              "    }\n",
              "</style>\n",
              "<table border=\"1\" class=\"dataframe\">\n",
              "  <thead>\n",
              "    <tr style=\"text-align: right;\">\n",
              "      <th></th>\n",
              "      <th>entry_id</th>\n",
              "      <th>PM1.0_CF1_ug/m3</th>\n",
              "      <th>PM2.5_CF1_ug/m3</th>\n",
              "      <th>PM10.0_CF1_ug/m3</th>\n",
              "      <th>UptimeMinutes</th>\n",
              "      <th>RSSI_dbm</th>\n",
              "      <th>Temperature_F</th>\n",
              "      <th>Humidity_%</th>\n",
              "      <th>PM2.5_ATM_ug/m3</th>\n",
              "      <th>Unnamed: 10</th>\n",
              "    </tr>\n",
              "  </thead>\n",
              "  <tbody>\n",
              "    <tr>\n",
              "      <th>count</th>\n",
              "      <td>5461.000000</td>\n",
              "      <td>5461.000000</td>\n",
              "      <td>5461.000000</td>\n",
              "      <td>5461.000000</td>\n",
              "      <td>5461.000000</td>\n",
              "      <td>5461.000000</td>\n",
              "      <td>5461.000000</td>\n",
              "      <td>5461.000000</td>\n",
              "      <td>5461.000000</td>\n",
              "      <td>0.0</td>\n",
              "    </tr>\n",
              "    <tr>\n",
              "      <th>mean</th>\n",
              "      <td>3143.000000</td>\n",
              "      <td>51.636479</td>\n",
              "      <td>86.137370</td>\n",
              "      <td>98.152769</td>\n",
              "      <td>2203.266068</td>\n",
              "      <td>-54.600073</td>\n",
              "      <td>86.659037</td>\n",
              "      <td>58.997803</td>\n",
              "      <td>62.215981</td>\n",
              "      <td>NaN</td>\n",
              "    </tr>\n",
              "    <tr>\n",
              "      <th>std</th>\n",
              "      <td>1576.599241</td>\n",
              "      <td>37.636242</td>\n",
              "      <td>70.356467</td>\n",
              "      <td>84.158415</td>\n",
              "      <td>2081.296338</td>\n",
              "      <td>3.755888</td>\n",
              "      <td>4.230171</td>\n",
              "      <td>8.929126</td>\n",
              "      <td>43.867013</td>\n",
              "      <td>NaN</td>\n",
              "    </tr>\n",
              "    <tr>\n",
              "      <th>min</th>\n",
              "      <td>413.000000</td>\n",
              "      <td>16.980000</td>\n",
              "      <td>27.860000</td>\n",
              "      <td>29.730000</td>\n",
              "      <td>1.000000</td>\n",
              "      <td>-69.000000</td>\n",
              "      <td>78.000000</td>\n",
              "      <td>29.000000</td>\n",
              "      <td>27.820000</td>\n",
              "      <td>NaN</td>\n",
              "    </tr>\n",
              "    <tr>\n",
              "      <th>25%</th>\n",
              "      <td>1778.000000</td>\n",
              "      <td>27.300000</td>\n",
              "      <td>43.050000</td>\n",
              "      <td>47.620000</td>\n",
              "      <td>442.000000</td>\n",
              "      <td>-57.000000</td>\n",
              "      <td>84.000000</td>\n",
              "      <td>55.000000</td>\n",
              "      <td>37.480000</td>\n",
              "      <td>NaN</td>\n",
              "    </tr>\n",
              "    <tr>\n",
              "      <th>50%</th>\n",
              "      <td>3143.000000</td>\n",
              "      <td>35.940000</td>\n",
              "      <td>56.160000</td>\n",
              "      <td>61.980000</td>\n",
              "      <td>1199.000000</td>\n",
              "      <td>-54.000000</td>\n",
              "      <td>85.000000</td>\n",
              "      <td>62.000000</td>\n",
              "      <td>43.890000</td>\n",
              "      <td>NaN</td>\n",
              "    </tr>\n",
              "    <tr>\n",
              "      <th>75%</th>\n",
              "      <td>4508.000000</td>\n",
              "      <td>59.180000</td>\n",
              "      <td>96.820000</td>\n",
              "      <td>109.600000</td>\n",
              "      <td>3944.000000</td>\n",
              "      <td>-52.000000</td>\n",
              "      <td>89.000000</td>\n",
              "      <td>66.000000</td>\n",
              "      <td>63.860000</td>\n",
              "      <td>NaN</td>\n",
              "    </tr>\n",
              "    <tr>\n",
              "      <th>85%</th>\n",
              "      <td>5054.000000</td>\n",
              "      <td>87.050000</td>\n",
              "      <td>146.020000</td>\n",
              "      <td>168.020000</td>\n",
              "      <td>5037.000000</td>\n",
              "      <td>-51.000000</td>\n",
              "      <td>91.000000</td>\n",
              "      <td>67.000000</td>\n",
              "      <td>96.630000</td>\n",
              "      <td>NaN</td>\n",
              "    </tr>\n",
              "    <tr>\n",
              "      <th>95%</th>\n",
              "      <td>5600.000000</td>\n",
              "      <td>137.500000</td>\n",
              "      <td>244.590000</td>\n",
              "      <td>286.980000</td>\n",
              "      <td>6135.000000</td>\n",
              "      <td>-49.000000</td>\n",
              "      <td>95.000000</td>\n",
              "      <td>68.000000</td>\n",
              "      <td>162.360000</td>\n",
              "      <td>NaN</td>\n",
              "    </tr>\n",
              "    <tr>\n",
              "      <th>99%</th>\n",
              "      <td>5818.400000</td>\n",
              "      <td>184.694000</td>\n",
              "      <td>349.200000</td>\n",
              "      <td>420.442000</td>\n",
              "      <td>6571.800000</td>\n",
              "      <td>-48.000000</td>\n",
              "      <td>100.000000</td>\n",
              "      <td>70.000000</td>\n",
              "      <td>232.020000</td>\n",
              "      <td>NaN</td>\n",
              "    </tr>\n",
              "    <tr>\n",
              "      <th>max</th>\n",
              "      <td>5873.000000</td>\n",
              "      <td>234.040000</td>\n",
              "      <td>450.880000</td>\n",
              "      <td>554.540000</td>\n",
              "      <td>6681.000000</td>\n",
              "      <td>-44.000000</td>\n",
              "      <td>102.000000</td>\n",
              "      <td>72.000000</td>\n",
              "      <td>299.790000</td>\n",
              "      <td>NaN</td>\n",
              "    </tr>\n",
              "  </tbody>\n",
              "</table>\n",
              "</div>"
            ],
            "text/plain": [
              "          entry_id  PM1.0_CF1_ug/m3  ...  PM2.5_ATM_ug/m3  Unnamed: 10\n",
              "count  5461.000000      5461.000000  ...      5461.000000          0.0\n",
              "mean   3143.000000        51.636479  ...        62.215981          NaN\n",
              "std    1576.599241        37.636242  ...        43.867013          NaN\n",
              "min     413.000000        16.980000  ...        27.820000          NaN\n",
              "25%    1778.000000        27.300000  ...        37.480000          NaN\n",
              "50%    3143.000000        35.940000  ...        43.890000          NaN\n",
              "75%    4508.000000        59.180000  ...        63.860000          NaN\n",
              "85%    5054.000000        87.050000  ...        96.630000          NaN\n",
              "95%    5600.000000       137.500000  ...       162.360000          NaN\n",
              "99%    5818.400000       184.694000  ...       232.020000          NaN\n",
              "max    5873.000000       234.040000  ...       299.790000          NaN\n",
              "\n",
              "[11 rows x 10 columns]"
            ]
          },
          "metadata": {
            "tags": []
          }
        }
      ]
    },
    {
      "cell_type": "markdown",
      "metadata": {
        "id": "6OGeDN9UeTWG"
      },
      "source": [
        "## Processing my data"
      ]
    },
    {
      "cell_type": "code",
      "metadata": {
        "id": "KjMAURFp8zhv",
        "colab": {
          "base_uri": "https://localhost:8080/",
          "height": 204
        },
        "outputId": "0b9dc509-af7e-47a0-cebe-304643c48c36"
      },
      "source": [
        "# Rename columns\n",
        "df = df.rename(columns = {'created_at': 'dt', 'PM2.5_ATM_ug/m3': 'pm'})\n",
        "\n",
        "\n",
        "# Change index to datetime\n",
        "df['dt'].index = pd.to_datetime(df.index)\n",
        "\n",
        "# Sort the values\n",
        "df = df.sort_index(ascending = True)\n",
        "\n",
        "# Fill values with forward fill\n",
        "df = df.fillna(method='ffill')\n",
        "\n",
        "# Show the end of the data\n",
        "display(df.tail())"
      ],
      "execution_count": null,
      "outputs": [
        {
          "output_type": "display_data",
          "data": {
            "text/html": [
              "<div>\n",
              "<style scoped>\n",
              "    .dataframe tbody tr th:only-of-type {\n",
              "        vertical-align: middle;\n",
              "    }\n",
              "\n",
              "    .dataframe tbody tr th {\n",
              "        vertical-align: top;\n",
              "    }\n",
              "\n",
              "    .dataframe thead th {\n",
              "        text-align: right;\n",
              "    }\n",
              "</style>\n",
              "<table border=\"1\" class=\"dataframe\">\n",
              "  <thead>\n",
              "    <tr style=\"text-align: right;\">\n",
              "      <th></th>\n",
              "      <th>dt</th>\n",
              "      <th>entry_id</th>\n",
              "      <th>PM1.0_CF1_ug/m3</th>\n",
              "      <th>PM2.5_CF1_ug/m3</th>\n",
              "      <th>PM10.0_CF1_ug/m3</th>\n",
              "      <th>UptimeMinutes</th>\n",
              "      <th>RSSI_dbm</th>\n",
              "      <th>Temperature_F</th>\n",
              "      <th>Humidity_%</th>\n",
              "      <th>pm</th>\n",
              "      <th>Unnamed: 10</th>\n",
              "    </tr>\n",
              "  </thead>\n",
              "  <tbody>\n",
              "    <tr>\n",
              "      <th>5456</th>\n",
              "      <td>2021-08-03 23:50:18 UTC</td>\n",
              "      <td>5869</td>\n",
              "      <td>125.58</td>\n",
              "      <td>222.44</td>\n",
              "      <td>259.49</td>\n",
              "      <td>704.0</td>\n",
              "      <td>-48.0</td>\n",
              "      <td>84.0</td>\n",
              "      <td>69.0</td>\n",
              "      <td>147.46</td>\n",
              "      <td>NaN</td>\n",
              "    </tr>\n",
              "    <tr>\n",
              "      <th>5457</th>\n",
              "      <td>2021-08-03 23:52:17 UTC</td>\n",
              "      <td>5870</td>\n",
              "      <td>120.38</td>\n",
              "      <td>213.91</td>\n",
              "      <td>249.43</td>\n",
              "      <td>706.0</td>\n",
              "      <td>-49.0</td>\n",
              "      <td>84.0</td>\n",
              "      <td>69.0</td>\n",
              "      <td>141.89</td>\n",
              "      <td>NaN</td>\n",
              "    </tr>\n",
              "    <tr>\n",
              "      <th>5458</th>\n",
              "      <td>2021-08-03 23:54:17 UTC</td>\n",
              "      <td>5871</td>\n",
              "      <td>118.11</td>\n",
              "      <td>215.66</td>\n",
              "      <td>251.62</td>\n",
              "      <td>708.0</td>\n",
              "      <td>-48.0</td>\n",
              "      <td>84.0</td>\n",
              "      <td>69.0</td>\n",
              "      <td>142.98</td>\n",
              "      <td>NaN</td>\n",
              "    </tr>\n",
              "    <tr>\n",
              "      <th>5459</th>\n",
              "      <td>2021-08-03 23:56:18 UTC</td>\n",
              "      <td>5872</td>\n",
              "      <td>113.34</td>\n",
              "      <td>201.43</td>\n",
              "      <td>238.93</td>\n",
              "      <td>710.0</td>\n",
              "      <td>-49.0</td>\n",
              "      <td>84.0</td>\n",
              "      <td>69.0</td>\n",
              "      <td>133.55</td>\n",
              "      <td>NaN</td>\n",
              "    </tr>\n",
              "    <tr>\n",
              "      <th>5460</th>\n",
              "      <td>2021-08-03 23:58:17 UTC</td>\n",
              "      <td>5873</td>\n",
              "      <td>106.44</td>\n",
              "      <td>190.41</td>\n",
              "      <td>222.87</td>\n",
              "      <td>712.0</td>\n",
              "      <td>-48.0</td>\n",
              "      <td>84.0</td>\n",
              "      <td>69.0</td>\n",
              "      <td>126.20</td>\n",
              "      <td>NaN</td>\n",
              "    </tr>\n",
              "  </tbody>\n",
              "</table>\n",
              "</div>"
            ],
            "text/plain": [
              "                           dt  entry_id  ...      pm  Unnamed: 10\n",
              "5456  2021-08-03 23:50:18 UTC      5869  ...  147.46          NaN\n",
              "5457  2021-08-03 23:52:17 UTC      5870  ...  141.89          NaN\n",
              "5458  2021-08-03 23:54:17 UTC      5871  ...  142.98          NaN\n",
              "5459  2021-08-03 23:56:18 UTC      5872  ...  133.55          NaN\n",
              "5460  2021-08-03 23:58:17 UTC      5873  ...  126.20          NaN\n",
              "\n",
              "[5 rows x 11 columns]"
            ]
          },
          "metadata": {
            "tags": []
          }
        }
      ]
    },
    {
      "cell_type": "markdown",
      "metadata": {
        "id": "K2Tou1jnBgFP"
      },
      "source": [
        "## Plot my data\n",
        "* Is there an overall increasing trend? (movement of a series to relatively higher or lower values over a long period of time)\n",
        "- Are there some differences in the variance over time? (increased amplitudes during the course of the time period observed)\n",
        "- There may be some seasonality (i.e., cycles) in the data. (cycles that repeat regularly over time)"
      ]
    },
    {
      "cell_type": "markdown",
      "metadata": {
        "id": "InfjHbm1Z_Dp"
      },
      "source": [
        "![seasonality.png](data:image/png;base64,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)![auto cor.png](data:image/png;base64,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)"
      ]
    },
    {
      "cell_type": "code",
      "metadata": {
        "id": "FpZOCpfc8xWz",
        "colab": {
          "base_uri": "https://localhost:8080/",
          "height": 327
        },
        "outputId": "383ab2d2-d975-4202-a44d-5f07aa8678e1"
      },
      "source": [
        "df.plot(x=\"dt\", y= 'pm')\n",
        "plt.title(\"PM2.5 measurement in Port Harcourt\\nbetween 2021-07-27 to 2021-08-03\", size=12)\n",
        "plt.xlabel('TIME', size=10)\n",
        "plt.ylabel('PM2.5', size=10)"
      ],
      "execution_count": null,
      "outputs": [
        {
          "output_type": "execute_result",
          "data": {
            "text/plain": [
              "Text(0, 0.5, 'PM2.5')"
            ]
          },
          "metadata": {
            "tags": []
          },
          "execution_count": 13
        },
        {
          "output_type": "display_data",
          "data": {
            "image/png": "[encoded data removed]",
            "text/plain": [
              "<Figure size 432x288 with 1 Axes>"
            ]
          },
          "metadata": {
            "tags": [],
            "needs_background": "light"
          }
        }
      ]
    },
    {
      "cell_type": "markdown",
      "metadata": {
        "id": "aFR3se7N5MZR"
      },
      "source": [
        "## Look at stationarity\n",
        "Before applying any statistical model on a Time Series, the series has to be staionary, which means that, over different time periods,\n",
        "*  It should have constant mean.\n",
        "*  It should have constant variance or standard deviation.\n",
        "*  Auto-covariance (used to estimate. the dominant periods in the time series) should not depend on time.\n",
        "\n",
        "If a time series has a specific (stationary) behavior over a given time interval, then it can be assumed that the time series will behave the same at a later time."
      ]
    },
    {
      "cell_type": "markdown",
      "metadata": {
        "id": "VDG5C7mEPWtB"
      },
      "source": [
        "##### Dickey-Fuller test is statistical tests for checking stationarity, while Rolling Statistics is more of a visual technique. In rolling statistics we plot the mean and standard deviation of the time series and see if it varies with time. Dickey-Fuller test comprise of a Test Statistic and some Critical Values for different confidence levels(1%, 5%, 10%). We visualize the results and if the ‘Test Statistic’ is less than the ‘Critical Value’, we can infer that the series is stationary.\n",
        "**ADF statistic > critical value:** Fail to reject the null hypothesis (H0), the data has a unit root and is non-stationary. **ADF statistic < critical value:** Reject the null hypothesis (H0), the data does not have a unit root and is stationary."
      ]
    },
    {
      "cell_type": "code",
      "metadata": {
        "colab": {
          "base_uri": "https://localhost:8080/",
          "height": 296
        },
        "id": "LiobnXDaEqUJ",
        "outputId": "4c922a04-fbee-4af5-c586-da1764061b80"
      },
      "source": [
        "# Determining rolling statistics\n",
        "rolmean = df['pm'].rolling(window = 12, center = False).mean()\n",
        "rolstd = df['pm'].rolling(window = 12, center = False).std()\n",
        "\n",
        "# Plot rolling statistics:\n",
        "orig = plt.plot(df['pm'],\n",
        "                    color = 'blue', \n",
        "                    label = 'Original')\n",
        "mean = plt.plot(rolmean,\n",
        "                    color = 'red', \n",
        "                    label = 'Rolling Mean')\n",
        "std = plt.plot(rolstd,\n",
        "                   color = 'black', \n",
        "                   label = 'Rolling Std')\n",
        "plt.legend(loc = 'best')\n",
        "plt.title('Rolling Mean & Standard Deviation for %s' %('pm'))\n",
        "plt.xticks(rotation = 45)\n",
        "plt.show(block = False)\n",
        "plt.close()"
      ],
      "execution_count": null,
      "outputs": [
        {
          "output_type": "display_data",
          "data": {
            "image/png": "[encoded data removed]",
            "text/plain": [
              "<Figure size 432x288 with 1 Axes>"
            ]
          },
          "metadata": {
            "tags": [],
            "needs_background": "light"
          }
        }
      ]
    },
    {
      "cell_type": "code",
      "metadata": {
        "colab": {
          "base_uri": "https://localhost:8080/"
        },
        "id": "ksTvwvXvx2ar",
        "outputId": "5b15c4aa-dc0f-4077-a196-b6813bccc77a"
      },
      "source": [
        "import statsmodels.api as sm\n",
        "from statsmodels.tsa.stattools import adfuller\n",
        "print ('Results of Dickey-Fuller Test:')\n",
        "X = df[\"pm\"].values\n",
        "result = adfuller(X)\n",
        "print('ADF Statistic: %f' % result[0])\n",
        "print('p-value: %f' % result[1])\n",
        "print('Critical Values:')\n",
        "for key, value in result[4].items():\n",
        "    print('\\t%s: %.3f' % (key, value))\n",
        "\n",
        "if result[0] < result[4][\"5%\"]:\n",
        "    print (\"Reject Ho - Time Series is Stationary\")\n",
        "else:\n",
        "    print (\"Failed to Reject Ho - Time Series is Non-Stationary\")"
      ],
      "execution_count": null,
      "outputs": [
        {
          "output_type": "stream",
          "text": [
            "Results of Dickey-Fuller Test:\n",
            "ADF Statistic: -5.899379\n",
            "p-value: 0.000000\n",
            "Critical Values:\n",
            "\t1%: -3.432\n",
            "\t5%: -2.862\n",
            "\t10%: -2.567\n",
            "Reject Ho - Time Series is Stationary\n"
          ],
          "name": "stdout"
        }
      ]
    },
    {
      "cell_type": "markdown",
      "metadata": {
        "id": "QCtANwooIOOz"
      },
      "source": [
        "Here different percentages represents various confidence levels. We generally consider results of 1% confidence interval as it will tell us whether the TS is stationary with 99% confidence."
      ]
    },
    {
      "cell_type": "markdown",
      "metadata": {
        "id": "jK6ldw3J-Hoe"
      },
      "source": [
        "## Correcting for stationarity\n",
        "\n",
        "It is common for time series data to have to correct for non-stationarity. \n",
        "\n"
      ]
    },
    {
      "cell_type": "markdown",
      "metadata": {
        "id": "jF9Jiz_EOMqt"
      },
      "source": [
        "**What happens if you do not correct for these things?**\n",
        "\n",
        "- Variance can be mis-specified\n",
        "- Model fit can be worse.  \n",
        "- Not leveraging valuable time-dependent nature of the data.  \n",
        " \n"
      ]
    },
    {
      "cell_type": "markdown",
      "metadata": {
        "id": "PiFJF8dl-65Q"
      },
      "source": [
        "## Ways to correct for trend and seasonality, to make the time series stationary.\n",
        "The three common methods to achieve stationarity are:\n",
        "\n",
        "*   **Transformation** *Examples.* Log, square root, etc.\n",
        "*   **Smoothing** *Examples.* Weekly average, monthly average, rolling averages.\n",
        "*   **Differencing** *Examples.* First-order differencing, Second-order differencing"
      ]
    },
    {
      "cell_type": "markdown",
      "metadata": {
        "id": "cpagtLqhEReQ"
      },
      "source": [
        "#### And then you are ready to fit the data with a **MODEL** (maybe a statistical model like the ARIMA model or a neural network like the Recurrent neural network's LSTM )"
      ]
    }
  ]
}